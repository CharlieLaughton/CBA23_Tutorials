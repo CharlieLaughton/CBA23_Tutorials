{
 "cells": [
  {
   "cell_type": "markdown",
   "id": "29003979",
   "metadata": {},
   "source": [
    "## WE Simulation of Na - Cl association kinetics\n",
    "\n",
    "### Analysis of a longer simulation\n",
    "\n",
    "We have provided you with the log file, `nacl.log.reference` obtained when this simulation was run for 500 cycles (each cycle being 2ps, rather than 1ps as above)."
   ]
  },
  {
   "cell_type": "code",
   "execution_count": null,
   "id": "fefb2496",
   "metadata": {},
   "outputs": [],
   "source": [
    "# Extract data from the log file. Get:\n",
    "#\n",
    "# n_walkers: the number of walkers each cycle\n",
    "# flux: the recycled flux, each cycle\n",
    "# bin_weights: a dictionary with the cumulative weight of simulation in each bin\n",
    "#\n",
    "with open('nacl.log.reference') as f:\n",
    "    data = f.readlines()\n",
    "\n",
    "n_walkers = []\n",
    "flux = []\n",
    "for d in data[1:-1]:\n",
    "    w = d.split()\n",
    "    n_walkers.append(int(w[1]))\n",
    "    flux.append(float(w[4]))\n",
    "\n",
    "n_walkers = np.array(n_walkers)\n",
    "flux = np.array(flux)\n",
    "bin_weights = eval(data[-1])\n",
    "\n",
    "# normalise bin weights:\n",
    "mean_weights = np.array(list(bin_weights.values()))\n",
    "mean_weights /= mean_weights.sum() "
   ]
  },
  {
   "cell_type": "markdown",
   "id": "dcd34237",
   "metadata": {},
   "source": [
    "Plot key data:"
   ]
  },
  {
   "cell_type": "code",
   "execution_count": null,
   "id": "119e23b3",
   "metadata": {},
   "outputs": [],
   "source": [
    "from matplotlib import pyplot as plt\n",
    "%matplotlib inline\n",
    "\n",
    "plt.figure(figsize=(10,8))\n",
    "plt.subplot(221)\n",
    "plt.plot(flux)\n",
    "plt.xlabel('cycle #')\n",
    "plt.ylabel('flux)')\n",
    "plt.subplot(222)\n",
    "plt.plot(n_walkers)\n",
    "plt.xlabel('cycle #')\n",
    "plt.ylabel('n_walkers)')\n",
    "plt.subplot(223)\n",
    "plt.plot(mean_weights)\n",
    "plt.xlabel('bin #')\n",
    "plt.ylabel('relative weight)')\n",
    "print(f'mean flux = {flux[30:].mean():6.4g}')"
   ]
  },
  {
   "cell_type": "markdown",
   "id": "891099d5",
   "metadata": {},
   "source": [
    "The erratic pattern of flux recycling, and the rapid increase and then plateauing in the number of walkers each cycle, are apparent. The majority of the simulation weight remains in the last bin (Na-Cl sepaation > 1.5 nm). To calculate the association rate from the flux, we need to decide on where the boundary between the unassociated and associated states is, and - as this is an association rate constant with units of 1/(time\\*concentration) - do a volume correction.\n",
    "\n",
    "Zooming in a bit on the weights data reveals a 'kink' in the profile that is a fair guide to where the transition state probably is (there is no neeed to be super-exact about this in a case like this). It suggests we can regard the first 10 bins as being on the associated side of the barrier, so the rest count towards the unassociated concentration:"
   ]
  },
  {
   "cell_type": "code",
   "execution_count": null,
   "id": "ce3d3141",
   "metadata": {},
   "outputs": [],
   "source": [
    "plt.plot(mean_weights[:18])\n",
    "plt.xlabel('bin #')\n",
    "plt.ylabel('relative weight)')"
   ]
  },
  {
   "cell_type": "markdown",
   "id": "61d11111",
   "metadata": {},
   "source": [
    "Now the volume correction. The maths below calculates this for a triclinic periodic cell:"
   ]
  },
  {
   "cell_type": "code",
   "execution_count": null,
   "id": "b9096ce1",
   "metadata": {},
   "outputs": [],
   "source": [
    "bv = inpcrd.boxVectors\n",
    "a, b, c = [np.linalg.norm(b) for b in bv] # unit cell vector lengths\n",
    "unit_vectors = [b / np.linalg.norm(b) for b in bv]\n",
    "cosalpha = np.dot(unit_vectors[1], unit_vectors[2]) #\n",
    "cosbeta = np.dot(unit_vectors[0], unit_vectors[2])  # unit cell angles\n",
    "cosgamma = np.dot(unit_vectors[0], unit_vectors[1]) #\n",
    "volume = a*b*c*(1 - cosalpha**2 - cosbeta**2 - cosgamma**2) + 2* np.sqrt(np.abs(cosalpha*cosbeta*cosgamma))\n",
    "print(f'unit cell volume = {volume:6.4g} nm**3')"
   ]
  },
  {
   "cell_type": "code",
   "execution_count": null,
   "id": "9fccbb37",
   "metadata": {},
   "outputs": [],
   "source": [
    "boundary_bin = 10 # boundary between what's considered \"associated\" and \"disassociated\"\n",
    "w_u = mean_weights[boundary_bin:].sum() / mean_weights.sum()\n",
    "print(f'unbound weight = {w_u:6.4g}')\n",
    "\n",
    "NA = 6.022e+23\n",
    "nm3_to_dm3 = 1e-24\n",
    "time_step_to_seconds = 1 / 5e11 # the WE simulations are 2 ps per cycle\n",
    "concentration = w_u / (volume * NA * nm3_to_dm3)\n",
    "print(f'concentration of unassociated ion = {concentration:6.4g} M')\n",
    "\n",
    "k_assoc = flux.mean() / (concentration * time_step_to_seconds)\n",
    "print(f'Association rate constant = {k_assoc:6.4g} / M.second')"
   ]
  },
  {
   "cell_type": "markdown",
   "id": "967cbe38",
   "metadata": {},
   "source": [
    "The result is quite close to the diffusion limit for bimolecular asssociation in water (about 7e9 /M.second, see [here](https://en.wikipedia.org/wiki/Diffusion-controlled_reaction).\n",
    "\n",
    "### Experiments to try:\n",
    "\n",
    "What happens to the predicted association constant if you decide to move the division between bound and unbound states to a different bin boundary?\n",
    "\n",
    "You will find a restart file for the \"bound\" state of the NaCl system in this directory. Try to edit the file `config.yaml` to construct a WE workflow to predict the unbinding rate."
   ]
  },
  {
   "cell_type": "code",
   "execution_count": null,
   "id": "d8b48f52",
   "metadata": {},
   "outputs": [],
   "source": []
  }
 ],
 "metadata": {
  "kernelspec": {
   "display_name": "Python 3 (ipykernel)",
   "language": "python",
   "name": "python3"
  },
  "language_info": {
   "codemirror_mode": {
    "name": "ipython",
    "version": 3
   },
   "file_extension": ".py",
   "mimetype": "text/x-python",
   "name": "python",
   "nbconvert_exporter": "python",
   "pygments_lexer": "ipython3",
   "version": "3.9.16"
  }
 },
 "nbformat": 4,
 "nbformat_minor": 5
}
