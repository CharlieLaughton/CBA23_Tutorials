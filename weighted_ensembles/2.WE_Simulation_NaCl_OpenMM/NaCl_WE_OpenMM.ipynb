{
 "cells": [
  {
   "cell_type": "markdown",
   "id": "d7b36e6b",
   "metadata": {},
   "source": [
    "# The Weighted Ensemble Method\n",
    "\n",
    "## Sodium Chloride Association Kinetics, with OpenMM\n",
    "\n",
    "The Weighted Ensemble (WE) method provides a route to estimating kinetic and thermodynamic parameters for many different types of biomolecular simulation problem. For a good introduction, see this [2017 review from Zuckerman and Chong](https://pubmed.ncbi.nlm.nih.gov/28301772/).\n",
    "\n",
    "The aim of this notebook is to illustrate the key aspects of \"steady state\" type WE simulations (walkers, progress coordinates, binning, splitting and merging, recycling) with a version of the sodium chloride association kinetics example that also features in the [WESTPA](https://pubmed.ncbi.nlm.nih.gov/26392815/) tutorials, but using `WElib` instead.\n",
    "\n",
    "There is a barrier to the formation of a Na+ - Cl- ion pair in solution as the hydration shells that surround each ion - when separated -  must be disrupted. In this Weighted Ensemble simulation, we begin with a box of water containing one sodium and one chloride ion, about 11 Angstroms (1.1 nm) apart. We measure the rate at which this forms an ion pair (defined as <= 2.6 Angstroms apart).\n",
    "\n",
    "### Part 0: Install WElib (if not done already)"
   ]
  },
  {
   "cell_type": "code",
   "execution_count": 1,
   "id": "07971fb1",
   "metadata": {},
   "outputs": [
    {
     "name": "stdout",
     "output_type": "stream",
     "text": [
      "Collecting git+http://github.com/CharlieLaughton/WElib.git\n",
      "  Cloning http://github.com/CharlieLaughton/WElib.git to /private/var/folders/x4/yxxm9x3s7ns4stck5237hhfm0000gn/T/pip-req-build-5gefcjmf\n",
      "  Running command git clone --filter=blob:none --quiet http://github.com/CharlieLaughton/WElib.git /private/var/folders/x4/yxxm9x3s7ns4stck5237hhfm0000gn/T/pip-req-build-5gefcjmf\n",
      "  warning: redirecting to https://github.com/CharlieLaughton/WElib.git/\n",
      "  Resolved http://github.com/CharlieLaughton/WElib.git to commit 5352bcdb8d9e12c0c263772bdbfd8ce68ac94563\n",
      "  Installing build dependencies ... \u001b[?25ldone\n",
      "\u001b[?25h  Getting requirements to build wheel ... \u001b[?25ldone\n",
      "\u001b[?25h  Installing backend dependencies ... \u001b[?25ldone\n",
      "\u001b[?25h  Preparing metadata (pyproject.toml) ... \u001b[?25ldone\n",
      "\u001b[?25hBuilding wheels for collected packages: WElib\n",
      "  Building wheel for WElib (pyproject.toml) ... \u001b[?25ldone\n",
      "\u001b[?25h  Created wheel for WElib: filename=WElib-0.0.1-py3-none-any.whl size=11505 sha256=01b2aabf8766b0913909104a6125aebe695b1056b41641aa1b98a6d64f4be8da\n",
      "  Stored in directory: /private/var/folders/x4/yxxm9x3s7ns4stck5237hhfm0000gn/T/pip-ephem-wheel-cache-a06d264k/wheels/d5/57/31/5b582a43d955fb92aa8eb97b21e916c27bfe7c31f7261ec018\n",
      "Successfully built WElib\n",
      "Installing collected packages: WElib\n",
      "Successfully installed WElib-0.0.1\n"
     ]
    }
   ],
   "source": [
    "!pip install git+http://github.com/CharlieLaughton/WElib.git"
   ]
  },
  {
   "cell_type": "markdown",
   "id": "6f2eb1fe",
   "metadata": {},
   "source": [
    "### Part 1: Building the OpenMM system\n",
    "We begin by importing the packages required to build the simulation system in OpenMM: "
   ]
  },
  {
   "cell_type": "code",
   "execution_count": 1,
   "id": "65078608",
   "metadata": {},
   "outputs": [],
   "source": [
    "import openmm.app as omm_app\n",
    "import openmm as omm\n",
    "import openmm.unit as unit"
   ]
  },
  {
   "cell_type": "markdown",
   "id": "756239ff",
   "metadata": {},
   "source": [
    "Now we create the `system`, and then a `simulation` object:"
   ]
  },
  {
   "cell_type": "code",
   "execution_count": 2,
   "id": "891ecb9f",
   "metadata": {},
   "outputs": [
    {
     "name": "stdout",
     "output_type": "stream",
     "text": [
      "OpenMM will use the OpenCL platform\n"
     ]
    }
   ],
   "source": [
    "prmtop = omm_app.AmberPrmtopFile('nacl.parm7')\n",
    "inpcrd = omm_app.AmberInpcrdFile('nacl_unbound.ncrst')\n",
    "system = prmtop.createSystem(nonbondedMethod=omm_app.PME, nonbondedCutoff=10.0*unit.angstrom,\n",
    "        constraints=omm_app.HBonds)\n",
    "\n",
    "T = 300.0 * unit.kelvin  ## temperature\n",
    "fricCoef = 1.0 / unit.picoseconds ## friction coefficient \n",
    "stepsize = 0.002 * unit.picoseconds ## integration step size\n",
    "integrator = omm.LangevinIntegrator(T, fricCoef, stepsize)\n",
    "\n",
    "simulation = omm_app.Simulation(prmtop.topology, system, integrator)\n",
    "simulation.context.setPositions(inpcrd.positions)\n",
    "if inpcrd.boxVectors is not None:\n",
    "    simulation.context.setPeriodicBoxVectors(*inpcrd.boxVectors)\n",
    "    \n",
    "print(f'OpenMM will use the {simulation.context.getPlatform().getName()} platform')"
   ]
  },
  {
   "cell_type": "markdown",
   "id": "120d2c4d",
   "metadata": {},
   "source": [
    "The simulation system uses periodic boundary conditions, so later we will need a utility to correct for imaging issues. Here's a class to do it:"
   ]
  },
  {
   "cell_type": "code",
   "execution_count": 3,
   "id": "9b4a13a3",
   "metadata": {},
   "outputs": [],
   "source": [
    "class PBCImager():\n",
    "    '''\n",
    "    Tools to manipulate coordinate data with regards to PBC\n",
    "    \n",
    "    '''\n",
    "    def __init__(self, unitcell_vectors):\n",
    "        self.A = unitcell_vectors.T\n",
    "        self.B = np.linalg.inv(self.A)\n",
    "\n",
    "    def pack(self, xyz, centre_atom_indices=None):\n",
    "        \"\"\"\n",
    "        Pack a set of coordinates into the periodic cell\n",
    "        \n",
    "        Optionally place the c.o.g. of a selection of atoms at the box centre\n",
    "        \"\"\"\n",
    "        if centre_atom_indices is not None:\n",
    "            box_centre = np.matmul(self.A, [0.5, 0.5, 0.5])\n",
    "            dv = box_centre - xyz[centre_atom_indices].mean(axis=0)\n",
    "        else:\n",
    "            dv = 0.0\n",
    "        r = xyz + dv\n",
    "        f = np.matmul(self.B, r.T)\n",
    "        g = f - np.floor(f)\n",
    "        t = np.matmul(self.A, g)\n",
    "        xyz_packed = t.T - dv\n",
    "        return xyz_packed\n",
    "\n",
    "    def image(self, vector):\n",
    "        \"\"\"\n",
    "        Return a vector imaged to be as short as possible\n",
    "        \"\"\"\n",
    "        lmin = (vector * vector).sum()\n",
    "        vopt = vector\n",
    "        f = np.matmul(self.B, vector.T)\n",
    "        g = f - np.floor(f)\n",
    "        for a in [0, 1]:\n",
    "            for b in [0, 1]:\n",
    "                for c in [0, 1]:\n",
    "                    gtmp = g - np.array([a, b, c])\n",
    "                    t = np.matmul(self.A, gtmp)\n",
    "                    l = (t * t).sum()\n",
    "                    if l < lmin:\n",
    "                        lmin = l\n",
    "                        vopt = t\n",
    "        return vopt\n"
   ]
  },
  {
   "cell_type": "markdown",
   "id": "b6182572",
   "metadata": {},
   "source": [
    "### Part 2: Building the WE workflow\n",
    "Now we import WElib and other utilities that will be useful. Many are the same as those used for the simple double well potential example, but we have OpenMM-compatible versions of the `Stepper` and `ProgressCoordinator`:"
   ]
  },
  {
   "cell_type": "code",
   "execution_count": 4,
   "id": "2f4716ed",
   "metadata": {},
   "outputs": [],
   "source": [
    "import mdtraj as mdt\n",
    "import numpy as np\n",
    "import time\n",
    "from WElib import Walker, FunctionStepper, FunctionProgressCoordinator, Recycler, StaticBinner, SplitMerger"
   ]
  },
  {
   "cell_type": "markdown",
   "id": "20ef6346",
   "metadata": {},
   "source": [
    "Create some walkers, each begins in the initial, dissociated, state:"
   ]
  },
  {
   "cell_type": "code",
   "execution_count": 5,
   "id": "0b28e36a",
   "metadata": {},
   "outputs": [
    {
     "name": "stdout",
     "output_type": "stream",
     "text": [
      "<WElib.Walker weight = 0.2, pcs = [], bin = None>\n",
      "<WElib.Walker weight = 0.2, pcs = [], bin = None>\n",
      "<WElib.Walker weight = 0.2, pcs = [], bin = None>\n",
      "<WElib.Walker weight = 0.2, pcs = [], bin = None>\n",
      "<WElib.Walker weight = 0.2, pcs = [], bin = None>\n"
     ]
    }
   ],
   "source": [
    "initial_state = simulation.context.getState(getPositions=True, enforcePeriodicBox=True)\n",
    "\n",
    "n_reps = 5\n",
    "walkers = [Walker(initial_state, 1.0/n_reps) for i in range(n_reps)]\n",
    "for w in walkers:\n",
    "    print(w)\n",
    "\n",
    "unitcell_vectors = initial_state.getPeriodicBoxVectors(asNumpy=True)/ unit.nanometers"
   ]
  },
  {
   "cell_type": "markdown",
   "id": "cc6e1caf",
   "metadata": {},
   "source": [
    "The progress coordinate will be the distance between the sodium and chloride ion. Create a function that can calculate this from the OpenMM state (correcting for PBC issues), then build the ProgressCoordinator with it:"
   ]
  },
  {
   "cell_type": "code",
   "execution_count": 6,
   "id": "5ef81517",
   "metadata": {},
   "outputs": [
    {
     "name": "stdout",
     "output_type": "stream",
     "text": [
      "<WElib.Walker weight = 0.2, pcs = [0.7694168430471353], bin = None>\n",
      "<WElib.Walker weight = 0.2, pcs = [0.7694168430471353], bin = None>\n",
      "<WElib.Walker weight = 0.2, pcs = [0.7694168430471353], bin = None>\n",
      "<WElib.Walker weight = 0.2, pcs = [0.7694168430471353], bin = None>\n",
      "<WElib.Walker weight = 0.2, pcs = [0.7694168430471353], bin = None>\n"
     ]
    }
   ],
   "source": [
    "def pc_func(state, imager=None):\n",
    "    '''\n",
    "    Given an OPenMM state, return the distance between the Na and Cl atoms\n",
    "    \n",
    "    May correct for PBC\n",
    "    \n",
    "    '''\n",
    "    na_atom = 0 # index of the sodium atom in the system\n",
    "    cl_atom = 1 # index of the chloride ion in the system\n",
    "    crds = state.getPositions(asNumpy=True) / unit.nanometer\n",
    "    dx = crds[na_atom] - crds[cl_atom]\n",
    "    if imager:\n",
    "        dx = imager.image(dx)\n",
    "    r = dx * dx\n",
    "    pc = np.linalg.norm(r)\n",
    "    return pc\n",
    "\n",
    "progress_coordinator = FunctionProgressCoordinator(pc_func, PBCImager(unitcell_vectors))\n",
    "walkers = progress_coordinator.run(walkers)\n",
    "for w in walkers:\n",
    "    print(w)"
   ]
  },
  {
   "cell_type": "markdown",
   "id": "abf4db66",
   "metadata": {},
   "source": [
    "We will recycle walkers when the Na-Cl distance falls below 0.26 nm. As the progress coordinate is something that gets smaller as we move towards the target state, this is a \"retrograde\" coordinate:"
   ]
  },
  {
   "cell_type": "code",
   "execution_count": 7,
   "id": "8a2dafc6",
   "metadata": {},
   "outputs": [
    {
     "name": "stdout",
     "output_type": "stream",
     "text": [
      "recycled flux =  0.0\n"
     ]
    }
   ],
   "source": [
    "recycler = Recycler(0.26, retrograde=True)\n",
    "walkers = recycler.run(walkers)\n",
    "\n",
    "print('recycled flux = ',recycler.flux)"
   ]
  },
  {
   "cell_type": "markdown",
   "id": "442db94d",
   "metadata": {},
   "source": [
    "We use the same bin boundaries as in the WESTPA tutorials. Notice these are closer-spaced at shorter distances, as the solvation shells get \"stiffer\":"
   ]
  },
  {
   "cell_type": "code",
   "execution_count": 8,
   "id": "700a05ea",
   "metadata": {},
   "outputs": [
    {
     "name": "stdout",
     "output_type": "stream",
     "text": [
      "<WElib.Walker weight = 0.2, pcs = [0.7694168430471353], bin = 14>\n",
      "<WElib.Walker weight = 0.2, pcs = [0.7694168430471353], bin = 14>\n",
      "<WElib.Walker weight = 0.2, pcs = [0.7694168430471353], bin = 14>\n",
      "<WElib.Walker weight = 0.2, pcs = [0.7694168430471353], bin = 14>\n",
      "<WElib.Walker weight = 0.2, pcs = [0.7694168430471353], bin = 14>\n"
     ]
    }
   ],
   "source": [
    "binner = StaticBinner([0, 0.26, 0.28, 0.3, 0.32, 0.34, 0.36, 0.38, 0.4, 0.45, 0.5, \n",
    "                 0.55, 0.6, 0.7, 0.8, 0.9, 1.0, 1.1, 1.2, 1.3, 1.4, 1.5])\n",
    "walkers = binner.run(walkers)\n",
    "for w in walkers:\n",
    "    print(w)"
   ]
  },
  {
   "cell_type": "markdown",
   "id": "786897f1",
   "metadata": {},
   "source": [
    "The SplitMerger is just the same as that used for the DWP example. We create it and run it, even though we know that at this time it will have nothing to do:"
   ]
  },
  {
   "cell_type": "code",
   "execution_count": 9,
   "id": "9ca9e17e",
   "metadata": {},
   "outputs": [
    {
     "name": "stdout",
     "output_type": "stream",
     "text": [
      "<WElib.Walker weight = 0.2, pcs = [0.7694168430471353], bin = 14>\n",
      "<WElib.Walker weight = 0.2, pcs = [0.7694168430471353], bin = 14>\n",
      "<WElib.Walker weight = 0.2, pcs = [0.7694168430471353], bin = 14>\n",
      "<WElib.Walker weight = 0.2, pcs = [0.7694168430471353], bin = 14>\n",
      "<WElib.Walker weight = 0.2, pcs = [0.7694168430471353], bin = 14>\n"
     ]
    }
   ],
   "source": [
    "splitmerger = SplitMerger(n_reps)\n",
    "walkers = splitmerger.run(walkers)\n",
    "for w in walkers:\n",
    "    print(w)"
   ]
  },
  {
   "cell_type": "markdown",
   "id": "bf19cbc7",
   "metadata": {},
   "source": [
    "Create a function that will run an OpenMM simulation. The function needs to take the current state of the system as its first argument, and return the final state at the end of the MD. Then use this created function to initialise a FunctionStepper, as was done for the DWP example."
   ]
  },
  {
   "cell_type": "code",
   "execution_count": 10,
   "id": "cc149fdf",
   "metadata": {},
   "outputs": [],
   "source": [
    "def OMMSim(state, simulation, nsteps):\n",
    "    simulation.context.setPositions(state.getPositions())\n",
    "    simulation.context.setPeriodicBoxVectors(*state.getPeriodicBoxVectors())\n",
    "    simulation.step(nsteps)\n",
    "    return simulation.context.getState(getPositions=True, enforcePeriodicBox=True)\n",
    "\n",
    "stepper = FunctionStepper(OMMSim, simulation, 500)"
   ]
  },
  {
   "cell_type": "markdown",
   "id": "74bc6b6c",
   "metadata": {},
   "source": [
    "Now we will apply the stepper. Note this will take some time longer to run than in the DWP example, exactly how long will depend on power of your laptop/workstation:"
   ]
  },
  {
   "cell_type": "code",
   "execution_count": 11,
   "id": "af11c7d5",
   "metadata": {},
   "outputs": [
    {
     "name": "stdout",
     "output_type": "stream",
     "text": [
      "5 simulations completed in    3.9 seconds\n"
     ]
    }
   ],
   "source": [
    "start_time = time.time()\n",
    "new_walkers = stepper.run(walkers) # this is where the MD happens\n",
    "end_time = time.time()\n",
    "print(f'{len(walkers)} simulations completed in {end_time-start_time:6.1f} seconds')"
   ]
  },
  {
   "cell_type": "markdown",
   "id": "8d8b970c",
   "metadata": {},
   "source": [
    "Let's see where those MD steps have moved each walker to:"
   ]
  },
  {
   "cell_type": "code",
   "execution_count": 12,
   "id": "0ebe76bb",
   "metadata": {},
   "outputs": [
    {
     "name": "stdout",
     "output_type": "stream",
     "text": [
      "recycled flux =  0.0\n",
      "<WElib.Walker weight = 0.2, pcs = [0.7276281888411282], bin = None>\n",
      "<WElib.Walker weight = 0.2, pcs = [0.932127378162377], bin = None>\n",
      "<WElib.Walker weight = 0.2, pcs = [0.8011615623350581], bin = None>\n",
      "<WElib.Walker weight = 0.2, pcs = [0.9041868764479465], bin = None>\n",
      "<WElib.Walker weight = 0.2, pcs = [0.8319387740564717], bin = None>\n"
     ]
    }
   ],
   "source": [
    "new_walkers = progress_coordinator.run(new_walkers)\n",
    "new_walkers = recycler.run(new_walkers)\n",
    "print('recycled flux = ', recycler.flux)\n",
    "for w in new_walkers:\n",
    "    print(w)"
   ]
  },
  {
   "cell_type": "markdown",
   "id": "33223cab",
   "metadata": {},
   "source": [
    "Apply the Binner and SplitMerger to the list of walkers:"
   ]
  },
  {
   "cell_type": "code",
   "execution_count": 13,
   "id": "1937d1ce",
   "metadata": {},
   "outputs": [
    {
     "name": "stdout",
     "output_type": "stream",
     "text": [
      "<WElib.Walker weight = 0.04000000000000001, pcs = [0.7276281888411282], bin = 14>\n",
      "<WElib.Walker weight = 0.04000000000000001, pcs = [0.7276281888411282], bin = 14>\n",
      "<WElib.Walker weight = 0.04000000000000001, pcs = [0.7276281888411282], bin = 14>\n",
      "<WElib.Walker weight = 0.04000000000000001, pcs = [0.7276281888411282], bin = 14>\n",
      "<WElib.Walker weight = 0.04000000000000001, pcs = [0.7276281888411282], bin = 14>\n",
      "<WElib.Walker weight = 0.08000000000000002, pcs = [0.9041868764479465], bin = 16>\n",
      "<WElib.Walker weight = 0.08000000000000002, pcs = [0.9041868764479465], bin = 16>\n",
      "<WElib.Walker weight = 0.08000000000000002, pcs = [0.9041868764479465], bin = 16>\n",
      "<WElib.Walker weight = 0.08000000000000002, pcs = [0.932127378162377], bin = 16>\n",
      "<WElib.Walker weight = 0.08000000000000002, pcs = [0.932127378162377], bin = 16>\n",
      "<WElib.Walker weight = 0.08000000000000002, pcs = [0.8011615623350581], bin = 15>\n",
      "<WElib.Walker weight = 0.08000000000000002, pcs = [0.8319387740564717], bin = 15>\n",
      "<WElib.Walker weight = 0.08000000000000002, pcs = [0.8011615623350581], bin = 15>\n",
      "<WElib.Walker weight = 0.08000000000000002, pcs = [0.8011615623350581], bin = 15>\n",
      "<WElib.Walker weight = 0.08000000000000002, pcs = [0.8319387740564717], bin = 15>\n"
     ]
    }
   ],
   "source": [
    "new_walkers = binner.run(new_walkers)\n",
    "new_walkers = splitmerger.run(new_walkers)\n",
    "for w in new_walkers:\n",
    "    print(w)"
   ]
  },
  {
   "cell_type": "markdown",
   "id": "e25897f6",
   "metadata": {},
   "source": [
    "### Part 3: Iterating the WE workflow\n",
    "OK, that's all the components in place, they have been tested individually and seem to be bahaving. Time to run a few cycles:"
   ]
  },
  {
   "cell_type": "code",
   "execution_count": 14,
   "id": "15ac6ef3",
   "metadata": {},
   "outputs": [
    {
     "name": "stdout",
     "output_type": "stream",
     "text": [
      " cycle    n_walkers   left-most bin  right-most bin   flux\n",
      "   0         30           11             17           0.00000000\n",
      "   1         40           11             20           0.00000000\n",
      "   2         50           11             21           0.00000000\n",
      "   3         60           11             22           0.00000000\n",
      "   4         60           11             22           0.00000000\n",
      "   5         70            9             22           0.00000000\n",
      "   6         75            5             22           0.00000000\n",
      "   7         85            4             22           0.00000000\n",
      "   8         95            4             22           0.00000000\n",
      "   9        100            1             22           0.00009199\n"
     ]
    }
   ],
   "source": [
    "n_cycles=10\n",
    "print(' cycle    n_walkers   left-most bin  right-most bin   flux')\n",
    "for i in range(n_cycles):\n",
    "    new_walkers = stepper.run(new_walkers)\n",
    "    new_walkers = progress_coordinator.run(new_walkers)\n",
    "    new_walkers = binner.run(new_walkers)\n",
    "    new_walkers = recycler.run(new_walkers)\n",
    "    if recycler.flux > 0.0:\n",
    "        new_walkers = progress_coordinator.run(new_walkers)\n",
    "        new_walkers = binner.run(new_walkers)\n",
    "    new_walkers = splitmerger.run(new_walkers)\n",
    "    occupied_bins = list(binner.bin_weights.keys())\n",
    "    print(f' {i:3d} {len(new_walkers):10d} {min(occupied_bins):12d} {max(occupied_bins):14d} {recycler.flux:20.8f}')"
   ]
  },
  {
   "cell_type": "markdown",
   "id": "54c8f4d5",
   "metadata": {},
   "source": [
    "The take-home message should be fairly obvious: even on a system as small as this, you can't really run WE simulations interactively - they need time and considerable compute resources. We'll come to how you can move from Jupyter Notebooks to HPC systems in a later part of the workshop. But for now, let's see how we can get some useful/interesting data from the stepper's `Recorder`.\n",
    "\n",
    "#### Generating trajectory files\n",
    "You can use MDTraj to write out the path taken so far by any of the walkers in the form of a trajectory that could be visualised. \n",
    "\n",
    "The `replay` method of the recorder outputs a list of the states visited by the given walker. Being OpenMM states, these have a `getPositions` method that can be used to extract atom coordinates, which can then be used to generate an MDTraj `trajectory`:"
   ]
  },
  {
   "cell_type": "code",
   "execution_count": 22,
   "id": "a53ef6fe",
   "metadata": {},
   "outputs": [
    {
     "name": "stdout",
     "output_type": "stream",
     "text": [
      "<mdtraj.Trajectory with 12 frames, 4010 atoms, 1338 residues, without unitcells>\n"
     ]
    }
   ],
   "source": [
    "chosen_walker = 0\n",
    "top = mdt.load_topology('nacl.parm7')\n",
    "xyz = []\n",
    "for s in stepper.recorder.replay(new_walkers[chosen_walker]):\n",
    "    xyz.append(s.getPositions(asNumpy=True) / unit.nanometer)\n",
    "t = mdt.Trajectory(xyz, top)\n",
    "print(t)\n",
    "t.save(f'walker_trajectory_{chosen_walker}.nc')"
   ]
  },
  {
   "cell_type": "markdown",
   "id": "d368fad2",
   "metadata": {},
   "source": [
    "#### Plotting progress coordinates\n",
    "You can plot the history of the progress coordinate of a walker. Create a list of fresh walkers, each initialised with one of the states visited by the chosen walker. Then pass this list through the `ProgressCoordinator` to add PC data, then you can plot this:"
   ]
  },
  {
   "cell_type": "code",
   "execution_count": 25,
   "id": "ccf9a992",
   "metadata": {},
   "outputs": [
    {
     "data": {
      "text/plain": [
       "Text(0, 0.5, 'progress coordinate')"
      ]
     },
     "execution_count": 25,
     "metadata": {},
     "output_type": "execute_result"
    },
    {
     "data": {
      "image/png": "[encoded data removed]",
      "text/plain": [
       "<Figure size 640x480 with 1 Axes>"
      ]
     },
     "metadata": {},
     "output_type": "display_data"
    }
   ],
   "source": [
    "from matplotlib import pyplot as plt\n",
    "%matplotlib inline\n",
    "chosen_walker = -1\n",
    "walker_list = [Walker(state, 1.0) for state in stepper.recorder.replay(new_walkers[chosen_walker])]\n",
    "walker_list = progress_coordinator.run(walker_list)\n",
    "plt.plot([w.pcs[0] for w in walker_list])\n",
    "plt.xlabel('step #')\n",
    "plt.ylabel('progress coordinate')"
   ]
  },
  {
   "cell_type": "markdown",
   "id": "29003979",
   "metadata": {},
   "source": [
    "### Analysis of a longer simulation\n",
    "\n",
    "We have provided you with the log file, `nacl.log` obtained when this simulation was run for 500 cycles (each cycle being 2ps, rather than 1ps as above)."
   ]
  },
  {
   "cell_type": "code",
   "execution_count": 26,
   "id": "fefb2496",
   "metadata": {},
   "outputs": [],
   "source": [
    "# Extract data from the log file. Get:\n",
    "#\n",
    "# n_walkers: the number of walkers each cycle\n",
    "# flux: the recycled flux, each cycle\n",
    "# bin_weights: a dictionary with the cumulative weight of simulation in each bin\n",
    "#\n",
    "with open('nacl.log') as f:\n",
    "    data = f.readlines()\n",
    "\n",
    "n_walkers = []\n",
    "flux = []\n",
    "for d in data[1:-1]:\n",
    "    w = d.split()\n",
    "    n_walkers.append(int(w[1]))\n",
    "    flux.append(float(w[4]))\n",
    "\n",
    "n_walkers = np.array(n_walkers)\n",
    "flux = np.array(flux)\n",
    "bin_weights = eval(data[-1])\n",
    "\n",
    "# normalise bin weights:\n",
    "mean_weights = np.array(list(bin_weights.values()))\n",
    "mean_weights /= mean_weights.sum() "
   ]
  },
  {
   "cell_type": "markdown",
   "id": "dcd34237",
   "metadata": {},
   "source": [
    "Plot key data:"
   ]
  },
  {
   "cell_type": "code",
   "execution_count": 27,
   "id": "119e23b3",
   "metadata": {},
   "outputs": [
    {
     "name": "stdout",
     "output_type": "stream",
     "text": [
      "mean flux = 9.468e-05\n"
     ]
    },
    {
     "data": {
      "image/png": "[encoded data removed]",
      "text/plain": [
       "<Figure size 1000x800 with 3 Axes>"
      ]
     },
     "metadata": {},
     "output_type": "display_data"
    }
   ],
   "source": [
    "from matplotlib import pyplot as plt\n",
    "%matplotlib inline\n",
    "\n",
    "plt.figure(figsize=(10,8))\n",
    "plt.subplot(221)\n",
    "plt.plot(flux)\n",
    "plt.xlabel('cycle #')\n",
    "plt.ylabel('flux)')\n",
    "plt.subplot(222)\n",
    "plt.plot(n_walkers)\n",
    "plt.xlabel('cycle #')\n",
    "plt.ylabel('n_walkers)')\n",
    "plt.subplot(223)\n",
    "plt.plot(mean_weights)\n",
    "plt.xlabel('bin #')\n",
    "plt.ylabel('relative weight)')\n",
    "print(f'mean flux = {flux[30:].mean():6.4g}')"
   ]
  },
  {
   "cell_type": "markdown",
   "id": "891099d5",
   "metadata": {},
   "source": [
    "The erratic pattern of flux recycling, and the rapid increase and then plateauing in the number of walkers each cycle, are apparent. The majority of the simulation weight remains in the last bin (Na-Cl sepaation > 1.5 nm). To calculate the association rate from the flux, we need to decide on where the boundary between the unassociated and associated states is, and - as this is an association rate constant with units of 1/(time\\*concentration) - do a volume correction.\n",
    "\n",
    "Zooming in a bit on the weights data reveals a 'kink' in the profile that is a fair guide to where the transition state probably is (there is no neeed to be super-exact about this in a case like this). It suggests we can regard the first 10 bins as being on the associated side of the barrier, so the rest count towards the unassociated concentration:"
   ]
  },
  {
   "cell_type": "code",
   "execution_count": 28,
   "id": "ce3d3141",
   "metadata": {},
   "outputs": [
    {
     "data": {
      "text/plain": [
       "Text(0, 0.5, 'relative weight)')"
      ]
     },
     "execution_count": 28,
     "metadata": {},
     "output_type": "execute_result"
    },
    {
     "data": {
      "image/png": "[encoded data removed]",
      "text/plain": [
       "<Figure size 640x480 with 1 Axes>"
      ]
     },
     "metadata": {},
     "output_type": "display_data"
    }
   ],
   "source": [
    "plt.plot(mean_weights[:18])\n",
    "plt.xlabel('bin #')\n",
    "plt.ylabel('relative weight)')"
   ]
  },
  {
   "cell_type": "markdown",
   "id": "61d11111",
   "metadata": {},
   "source": [
    "Now the volume correction. The maths below calculates this for a triclinic periodic cell:"
   ]
  },
  {
   "cell_type": "code",
   "execution_count": 29,
   "id": "b9096ce1",
   "metadata": {},
   "outputs": [
    {
     "name": "stdout",
     "output_type": "stream",
     "text": [
      "unit cell volume =  35.64 nm**3\n"
     ]
    }
   ],
   "source": [
    "bv = inpcrd.boxVectors\n",
    "a, b, c = [np.linalg.norm(b) for b in bv] # unit cell vector lengths\n",
    "unit_vectors = [b / np.linalg.norm(b) for b in bv]\n",
    "cosalpha = np.dot(unit_vectors[1], unit_vectors[2]) #\n",
    "cosbeta = np.dot(unit_vectors[0], unit_vectors[2])  # unit cell angles\n",
    "cosgamma = np.dot(unit_vectors[0], unit_vectors[1]) #\n",
    "volume = a*b*c*(1 - cosalpha**2 - cosbeta**2 - cosgamma**2) + 2* np.sqrt(np.abs(cosalpha*cosbeta*cosgamma))\n",
    "print(f'unit cell volume = {volume:6.4g} nm**3')"
   ]
  },
  {
   "cell_type": "code",
   "execution_count": 30,
   "id": "9fccbb37",
   "metadata": {},
   "outputs": [
    {
     "name": "stdout",
     "output_type": "stream",
     "text": [
      "unbound weight =  0.989\n",
      "concentration of unassociated ion = 0.04608 M\n",
      "Association rate constant = 1.031e+09 / M.second\n"
     ]
    }
   ],
   "source": [
    "boundary_bin = 10 # boundary between what's considered \"associated\" and \"disassociated\"\n",
    "w_u = mean_weights[boundary_bin:].sum() / mean_weights.sum()\n",
    "print(f'unbound weight = {w_u:6.4g}')\n",
    "\n",
    "NA = 6.022e+23\n",
    "nm3_to_dm3 = 1e-24\n",
    "time_step_to_seconds = 1 / 5e11 # the WE simulations are 2 ps per cycle\n",
    "concentration = w_u / (volume * NA * nm3_to_dm3)\n",
    "print(f'concentration of unassociated ion = {concentration:6.4g} M')\n",
    "\n",
    "k_assoc = flux.mean() / (concentration * time_step_to_seconds)\n",
    "print(f'Association rate constant = {k_assoc:6.4g} / M.second')"
   ]
  },
  {
   "cell_type": "markdown",
   "id": "967cbe38",
   "metadata": {},
   "source": [
    "The result is quite close to the diffusion limit for bimolecular asssociation in water (about 7e9 /M.second, see [here](https://en.wikipedia.org/wiki/Diffusion-controlled_reaction).\n",
    "\n",
    "### Experiments to try:\n",
    "\n",
    "What happens to the predicted association constant if you decide to move the division between bound and unbound states to a different bin boundary?\n",
    "\n",
    "You will find a restart file for the \"bound\" state of the NaCl system in this directory. Try to construct a WE workflow to predict the unbinding rate."
   ]
  },
  {
   "cell_type": "code",
   "execution_count": null,
   "id": "d8b48f52",
   "metadata": {},
   "outputs": [],
   "source": []
  }
 ],
 "metadata": {
  "kernelspec": {
   "display_name": "Python 3 (ipykernel)",
   "language": "python",
   "name": "python3"
  },
  "language_info": {
   "codemirror_mode": {
    "name": "ipython",
    "version": 3
   },
   "file_extension": ".py",
   "mimetype": "text/x-python",
   "name": "python",
   "nbconvert_exporter": "python",
   "pygments_lexer": "ipython3",
   "version": "3.9.10"
  }
 },
 "nbformat": 4,
 "nbformat_minor": 5
}
