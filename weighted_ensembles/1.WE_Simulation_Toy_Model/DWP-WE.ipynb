{
 "cells": [
  {
   "cell_type": "markdown",
   "id": "341d20a4",
   "metadata": {},
   "source": [
    "# The Weighted Ensemble Method\n",
    "\n",
    "## Toy model with double well potential, Brownian Dynamics\n",
    "\n",
    "The Weighted Ensemble (WE) method provides a route to estimating kinetic and thermodynamic parameters for many different types of biomolecular simulation problem. For a good introduction, see this [2017 review from Zuckerman and Chong](https://pubmed.ncbi.nlm.nih.gov/28301772/).\n",
    "\n",
    "The aim of this notebook is to illustrate the key aspects of \"steady state\" type WE simulations (walkers, progress coordinates, binning, splitting and merging, recycling) with a simple \"toy\" model that is fast enough to run that it can be experimented with interactively.\n",
    "\n",
    "Rather than using an off-the-shelf WE simulation platform such  as [WESTPA](https://pubmed.ncbi.nlm.nih.gov/26392815/), here you will build it yourself from components in a Python library `WElib`.\n",
    "\n",
    "`WElib` is not in Pypi, but you can install it directly from the GitHub repository, as follows:\n",
    "\n",
    "    pip install git+http://github.com/CharlieLaughton/WElib.git\n",
    "    \n"
   ]
  },
  {
   "cell_type": "code",
   "execution_count": null,
   "id": "01a0c263",
   "metadata": {},
   "outputs": [],
   "source": [
    "import numpy as np\n",
    "from matplotlib import pyplot as plt\n",
    "%matplotlib inline\n",
    "%load_ext Cython"
   ]
  },
  {
   "cell_type": "markdown",
   "id": "0ba99c2c",
   "metadata": {},
   "source": [
    "## Part 1: The double well potential\n",
    "\n",
    "Here is the simple skewed double-well energy function we will use for this toy problem. It has three parameters: `k` controls the barrier height, `a` the distance between the minima and `b` the degree of skewdness."
   ]
  },
  {
   "cell_type": "code",
   "execution_count": null,
   "id": "1c4660d0",
   "metadata": {},
   "outputs": [],
   "source": [
    "def double_well_function(x, k=1.0, a=2.0, b=0.0):\n",
    "    '''\n",
    "    A skewed double well potential\n",
    "    \n",
    "    x is the coordinate(s), k, a, and b are parameters\n",
    "    '''\n",
    "    energy = 0.25*k*((x-a)**2)*((x+a)**2) + b*x\n",
    "    force = - (k * x * (x-a) * (x+a) + b)\n",
    "    return energy, force"
   ]
  },
  {
   "cell_type": "markdown",
   "id": "e8490687",
   "metadata": {},
   "source": [
    "Evaluate it for x between -3.0 and 3.0:"
   ]
  },
  {
   "cell_type": "code",
   "execution_count": null,
   "id": "0527482c",
   "metadata": {},
   "outputs": [],
   "source": [
    "k = 1.0\n",
    "a = 2.0\n",
    "b = 1.0\n",
    "x_vals = np.linspace(-3.0, 3.0, 20)\n",
    "\n",
    "e, f = double_well_function(x_vals, k, a, b)\n",
    "plt.plot(x_vals, e, label='Energy')\n",
    "#plt.plot(x_vals, f, label='Force')\n",
    "#plt.plot(x_vals, [0.0] * len(x), '_')\n",
    "plt.xlabel('coordinate')\n",
    "plt.ylabel('Energy (kT)')\n",
    "plt.legend()"
   ]
  },
  {
   "cell_type": "markdown",
   "id": "7ba5b5e4",
   "metadata": {},
   "source": [
    "The double-well potential has a \"global\" energy minimum at a coordinate of -2, and a \"local\" energy minimum at a coordinate of 2. The difference in energy between them is 4kT. The barrier height from left to right is 6kT and from right to left it is 2kT. So now our aim is to construct a Weighted Ensemble simulation to find the rates at which a particle will move from the left-hand (coordinate = -2) to the right-hand (coordinate = 2) well, and the reverse.\n",
    "\n",
    "## Part 2: \"Vanilla\" Brownian dynamics simulations on the double well potential\n",
    "\n",
    "We build a Brownian dynamics propagator that will move a particle over this potential. We use Cython here to get maximum speed (you can ignore warning messages about deprecated NumPy API, if you get them)"
   ]
  },
  {
   "cell_type": "code",
   "execution_count": null,
   "id": "775fb716",
   "metadata": {},
   "outputs": [],
   "source": [
    "%%cython\n",
    "import numpy as np\n",
    "cimport numpy as np\n",
    "np.import_array()\n",
    "\n",
    "def bd_dwp_sim(double x, int n_steps, double dt, double gamma, double k, double a, double b):\n",
    "    '''\n",
    "    A Brownian dynamics simulator for a double-well potential (units of kT)\n",
    "    \n",
    "    Parameters:\n",
    "        x: initial coordinate\n",
    "        n_steps: number of BD steps\n",
    "        dt: time interval\n",
    "        gamma: friction coefficient\n",
    "        k, a, b: parameters of the double-well potential\n",
    "        \n",
    "    Returns:\n",
    "        The final coordinate\n",
    "    '''\n",
    "    cdef double scalefac1, scalefac2\n",
    "    cdef int i\n",
    "    friction_factor = dt/gamma\n",
    "    noise_factor = np.sqrt(2 * gamma * dt)\n",
    "    cdef np.ndarray[np.double_t] noise = np.random.normal(scale=noise_factor, size=n_steps)\n",
    "\n",
    "    for i in range(n_steps):\n",
    "        f = k * x * (x-a) * (x+a) + b\n",
    "        x = x - f*friction_factor + noise[i]\n",
    "    return x"
   ]
  },
  {
   "cell_type": "markdown",
   "id": "5f43f12a",
   "metadata": {},
   "source": [
    "Perform an unbiased simulation using these parameters - how does a single walker sample the double-well potential? The simulation is 1000,000 steps, saving the coordinate every 1000 steps:"
   ]
  },
  {
   "cell_type": "code",
   "execution_count": null,
   "id": "55356d1c",
   "metadata": {},
   "outputs": [],
   "source": [
    "traj = []\n",
    "x = -2.0\n",
    "dt = 1e-5\n",
    "gamma = 1.0\n",
    "k = 1.0\n",
    "a = 2.0\n",
    "b = 1.0\n",
    "n_steps = 1000\n",
    "n_cycles = 1000\n",
    "\n",
    "for i in range(n_cycles):\n",
    "    x = bd_dwp_sim(x, n_steps, dt, gamma, k, a, b)\n",
    "    traj.append(x)\n",
    "\n",
    "fig, ax1 = plt.subplots()\n",
    "ax1.plot(x_vals, e)\n",
    "plt.ylabel('Energy (kT)')\n",
    "ax2 = ax1.twinx()\n",
    "out = ax2.hist(traj, bins=50, color='green')\n",
    "plt.xlabel('coordinate')\n",
    "plt.ylabel('frequency')"
   ]
  },
  {
   "cell_type": "markdown",
   "id": "33dd63e1",
   "metadata": {},
   "source": [
    "The green histogram shows that only the left-hand well is sampled, there are no transitions to the right-hand well (coordinate > 0). We will now show how a weighted ensemble simulation can overcome this.\n",
    "\n",
    "## Part 3: Build the WE simulation workflow\n",
    "\n",
    "Now we build a Weighted Ensemble simulation workflow using \"building blocks\" from a small home-made Python library `WElib`. \n",
    "\n",
    "If neccessary, run the following cell to install the library:"
   ]
  },
  {
   "cell_type": "code",
   "execution_count": null,
   "id": "8f85e31e",
   "metadata": {},
   "outputs": [],
   "source": [
    "!pip install git+http://github.com/CharlieLaughton/WElib.git"
   ]
  },
  {
   "cell_type": "markdown",
   "id": "e2cfde8a",
   "metadata": {},
   "source": [
    "Now install the components you will need:"
   ]
  },
  {
   "cell_type": "code",
   "execution_count": null,
   "id": "9183b685",
   "metadata": {},
   "outputs": [],
   "source": [
    "from WElib import Walker, FunctionProgressCoordinator, FunctionStepper, StaticBinner, SplitMerger, Recycler"
   ]
  },
  {
   "cell_type": "markdown",
   "id": "3d7dfade",
   "metadata": {},
   "source": [
    "### Walkers\n",
    "Create a set of initial \"walkers\" with initial state (coordinates) corresponding to the base of the left-hand well. The total weight of all walkers will be 1.0:"
   ]
  },
  {
   "cell_type": "code",
   "execution_count": null,
   "id": "46908065",
   "metadata": {},
   "outputs": [],
   "source": [
    "n_reps = 5\n",
    "initial_coordinates = -2.0\n",
    "initial_weight = 1.0/n_reps\n",
    "walkers = [Walker(initial_coordinates, initial_weight) for i in range(n_reps)]\n",
    "for walker in walkers:\n",
    "    print(walker)"
   ]
  },
  {
   "cell_type": "markdown",
   "id": "a5760342",
   "metadata": {},
   "source": [
    "Note that currently the progress coordinate and bin assignment of each walker is undefined - we will add this information to them now.\n",
    "\n",
    "------\n",
    "### The Progress Coordinator\n",
    "In a WE simulation, we monitor one or more \"progress coordinates\". In general this is/are something that is calculated from the current coordinates, and choosing the right definition for the progress coordinate(s) can be a non-trivial issue.\n",
    "\n",
    "`WElib` contains a \"FunctionProgressCoordinator\" class that is used to construct building blocks that do the job of adding progress coordinate information to sets of walkers. These are initialised with a user-supplied function that takes in a state, and returns a progress coordinate (or coordinates). The FunctionProgressCoordinator instance then does the job of applying this to a whole set of walkers, and does other housekeeping stuff behind the scene."
   ]
  },
  {
   "cell_type": "markdown",
   "id": "54e05b7d",
   "metadata": {},
   "source": [
    "Create a function that takes a state and returns the progress coordinate, then create an instance of a FunctionProgressCoordinator, then use it to process the walkers we moved above. Note we overwrite the `walkers` list, as they are the same, just with the extra progress coordinate information added:"
   ]
  },
  {
   "cell_type": "code",
   "execution_count": null,
   "id": "9a2b5517",
   "metadata": {},
   "outputs": [],
   "source": [
    "def pc_func(state):\n",
    "    '''\n",
    "    A function that takes a state and returns a progress coordinate\n",
    "    \n",
    "    Trivial in this case as state and PC are the same!\n",
    "    '''\n",
    "    return state\n",
    "\n",
    "progress_coordinator = FunctionProgressCoordinator(pc_func)\n",
    "walkers = progress_coordinator.run(walkers)\n",
    "for walker in walkers:\n",
    "    print(walker)"
   ]
  },
  {
   "cell_type": "markdown",
   "id": "89e14fd3",
   "metadata": {},
   "source": [
    "----------\n",
    "### The Binner\n",
    "\n",
    "Now we need a \"binner\" function that will assign each of our walkers to a bin, based on their progress coordinate. We will use the `StaticBinner` class from `WElib` for this, which uses static bin boundary definitions. For this all we need to define are the positions of the bin edges. We use 0.1 increments in the left-hand well (as the walkers \"climb the hill\") but a coarser binning once they are over the transition state. \n",
    "\n",
    "In real life, in addition to choosing the right progress coordinate definition, much of the effort in a WE simulation project is getting the binning strategy right."
   ]
  },
  {
   "cell_type": "code",
   "execution_count": null,
   "id": "8bab9bd2",
   "metadata": {},
   "outputs": [],
   "source": [
    "edges = [-2.0, -1.9, -1.8, -1.7, -1.6, -1.5, -1.4, -1.3, -1.2, -1.1, -1.0, -0.9, -0.8, -0.7,\n",
    "         -0.6, -0.5, -0.4, -0.3, -0.2, -0.1, 0.0, 0.2, 0.5, 1.0, 1.5, 2.0]\n",
    "binner = StaticBinner(edges)"
   ]
  },
  {
   "cell_type": "markdown",
   "id": "e932e4f4",
   "metadata": {},
   "source": [
    "Test the binner, as before. The binner also keeps a record of a) the current and b) the mean weight in each bin, this mean weight data will be needed later:"
   ]
  },
  {
   "cell_type": "code",
   "execution_count": null,
   "id": "380d2472",
   "metadata": {},
   "outputs": [],
   "source": [
    "walkers = binner.run(walkers)\n",
    "for walker in walkers:\n",
    "    print(walker)\n",
    "for key in sorted(binner.bin_weights): # This is a dictionary with the ID and current weight in each populated bin\n",
    "    print('Bin: ', key, ' weight: ', binner.bin_weights[key]) "
   ]
  },
  {
   "cell_type": "markdown",
   "id": "7ac38713",
   "metadata": {},
   "source": [
    "--------------\n",
    "\n",
    "### The Stepper\n",
    "Each WE cycle, the walkers take a \"step\" that might get them to a new bin. We need to decide how long the BD simulations should be, to optimise this.\n",
    "\n",
    "Putting the walkers aside for a moment, examine the mean coordinate shift for different length BD simulations. The aim is to find the shortest simulation that will still give a reasonable shift in coordinates:"
   ]
  },
  {
   "cell_type": "code",
   "execution_count": null,
   "id": "d3532d5d",
   "metadata": {},
   "outputs": [],
   "source": [
    "x = -2.0 # start at the bottom of the left-hand well\n",
    "dt = 1e-5 # BD timestep\n",
    "gamma = 1.0 # BD friction constant\n",
    "# DWP parameters:\n",
    "k = 1.0\n",
    "a = 2.0\n",
    "b = 1.0\n",
    "\n",
    "mean_dx = [] # list to store mean displacements in\n",
    "\n",
    "step_choices = [100, 200, 300, 500, 1000, 2000, 3000, 4000, 5000]\n",
    "\n",
    "for n_steps in step_choices:\n",
    "    sum_dx = 0.0\n",
    "    n_reps = 1000\n",
    "    for rep in range(n_reps):\n",
    "        xnew = bd_dwp_sim(x, n_steps, dt, gamma, k, a, b)\n",
    "        sum_dx += np.abs(x-xnew)\n",
    "    mean_dx.append(sum_dx / n_reps)\n",
    "\n",
    "plt.plot(step_choices, mean_dx)\n",
    "plt.xlabel('n_steps')\n",
    "plt.ylabel('mean coordinate shift')"
   ]
  },
  {
   "cell_type": "markdown",
   "id": "bd30f5e9",
   "metadata": {},
   "source": [
    "We see a pattern of diminishing returns: a simulation twice as long results in less than a doubling in the mean distance moved. Therefore there seems little reason to make individual simulations longer than 1000 steps. This would make bins 0.1 apart (i.e., about the same as the mean coordinate shift) a reasonable choice. Lucky that's what we have already used, above!\n",
    "\n",
    "Use these parameters to define the \"stepper\" function for the WE workflow. This uses `WElib`'s `FunctionStepper` class, which is initialised with the function to be called and any arguments it takes in addition to the walker's coordinates:"
   ]
  },
  {
   "cell_type": "code",
   "execution_count": null,
   "id": "a83cd829",
   "metadata": {},
   "outputs": [],
   "source": [
    "n_steps = 1000\n",
    "dt = 1e-5\n",
    "gamma = 1.0\n",
    "k = 1.0\n",
    "a = 2.0\n",
    "b = 1.0\n",
    "stepper = FunctionStepper(bd_dwp_sim, n_steps, dt, gamma, k, a, b)"
   ]
  },
  {
   "cell_type": "markdown",
   "id": "271f7574",
   "metadata": {},
   "source": [
    "Test the stepper function - let each of the walkers make a step, and then see what the new coordinates of each has become (and keep a record of them using the state_recorder):"
   ]
  },
  {
   "cell_type": "code",
   "execution_count": null,
   "id": "a08d6b08",
   "metadata": {},
   "outputs": [],
   "source": [
    "moved_walkers = stepper.run(walkers)\n",
    "for i, w in enumerate(moved_walkers):\n",
    "    print(f'new coordinate for walker {i}: {w.state}')\n",
    "for walker in moved_walkers:\n",
    "    print(walker)"
   ]
  },
  {
   "cell_type": "markdown",
   "id": "67711301",
   "metadata": {},
   "source": [
    "Note the progress coordinates and bin assignments for each walker have been reset to `None`, as the coordinates have changed, so we need to re-run the ProgressCoordinator:"
   ]
  },
  {
   "cell_type": "code",
   "execution_count": null,
   "id": "97f51535",
   "metadata": {},
   "outputs": [],
   "source": [
    "moved_walkers = progress_coordinator.run(moved_walkers)\n",
    "for walker in moved_walkers:\n",
    "    print(walker)"
   ]
  },
  {
   "cell_type": "markdown",
   "id": "7cc3e231",
   "metadata": {},
   "source": [
    "-----------\n",
    "### The Recycler\n",
    "We are using the \"steady state\" version of the WE method, so we need a \"recycler\": a function which looks to see if any of the walkers has reached or exceeded the target value for the progress coordinate, and if so, replaces it with a walker with the same weight, but with the initial coordinates. The \"recycler\" also keeps a record of how much (if any) weight has been recycled (the flux), and -if any - a list of recycled walkers:"
   ]
  },
  {
   "cell_type": "code",
   "execution_count": null,
   "id": "69cc574a",
   "metadata": {},
   "outputs": [],
   "source": [
    "target_pc = 2.0\n",
    "recycler = Recycler(target_pc)\n",
    "\n",
    "moved_walkers = recycler.run(moved_walkers)\n",
    "print('flux=', recycler.flux)\n",
    "print('recycled walkers: ', recycler.recycled_walkers)"
   ]
  },
  {
   "cell_type": "markdown",
   "id": "b552b6b1",
   "metadata": {},
   "source": [
    "As expected, nothing gets recycled, all the walkers are still in the LH well. We still need to rerun the `binner` to add bin ids to the moved walkers:"
   ]
  },
  {
   "cell_type": "code",
   "execution_count": null,
   "id": "8a6bfe80",
   "metadata": {},
   "outputs": [],
   "source": [
    "moved_walkers = binner.run(moved_walkers)\n",
    "for walker in moved_walkers:\n",
    "    print(walker)\n",
    "for key in sorted(binner.bin_weights):\n",
    "    print('Bin: ', key, ' weight: ', binner.bin_weights[key]) \n",
    "for key in sorted(binner.mean_bin_weights): # This is a dictionary with the ID and mean weight in each populated bin\n",
    "    print('Bin: ', key, ' mean weight: ', binner.mean_bin_weights[key]) "
   ]
  },
  {
   "cell_type": "markdown",
   "id": "c85fa4ed",
   "metadata": {},
   "source": [
    "---------\n",
    "### The Splitter/Merger\n",
    "Next we need a \"splitmerger\" that will split or merge walkers in each bin, according to the WE rules. `WElib` contains a straightforward class for this which will fit most circumstances. Instances of it just need to define the target number of walkers per bin:"
   ]
  },
  {
   "cell_type": "code",
   "execution_count": null,
   "id": "ff1fa2b5",
   "metadata": {},
   "outputs": [],
   "source": [
    "n_reps = 5\n",
    "splitmerger = SplitMerger(n_reps)\n",
    "\n",
    "splitmerged_walkers = splitmerger.run(moved_walkers)\n",
    "for walker in splitmerged_walkers:\n",
    "    print(walker)"
   ]
  },
  {
   "cell_type": "markdown",
   "id": "70ec14cf",
   "metadata": {},
   "source": [
    "Note we now have more walkers - `n_reps` per occupied bin.\n",
    "\n",
    "----------\n",
    "## Part 4: Running a complete WE simulation workflow\n",
    "OK, now we have tested the individual components, we can build a complete WE simulation. Each cycle will record the flux of walker weight from the target state (here, the same as the target progress coordinate) back to the initial state.\n",
    "\n",
    "This cell is doing all the work, and may take a little time to run..."
   ]
  },
  {
   "cell_type": "code",
   "execution_count": null,
   "id": "dc70e755",
   "metadata": {},
   "outputs": [],
   "source": [
    "n_reps = 5\n",
    "initial_coordinates = -2.0\n",
    "initial_weight = 1.0/n_reps\n",
    "walkers = [Walker(initial_coordinates, initial_weight) for i in range(n_reps)]\n",
    "walkers = progress_coordinator.run(walkers)\n",
    "walkers = binner.run(walkers)\n",
    "n_cycles = 1000\n",
    "walkers_per_cycle = []\n",
    "binner.reset() # zero the weights memory\n",
    "forward_recycled_walkers = []\n",
    "for i in range(n_cycles):\n",
    "    walkers = splitmerger.run(walkers)\n",
    "    walkers_per_cycle.append(len(walkers))\n",
    "    walkers = stepper.run(walkers)\n",
    "    walkers = progress_coordinator.run(walkers)\n",
    "    walkers = recycler.run(walkers)\n",
    "    if recycler.flux > 0.0:\n",
    "        walkers = progress_coordinator.run(walkers)\n",
    "        forward_recycled_walkers += recycler.recycled_walkers\n",
    "    walkers = binner.run(walkers)\n",
    "    \n",
    "    if i % (n_cycles // 10) == 0:\n",
    "        print(\"{:4.1f}% done\".format(100*i/n_cycles))\n",
    "print('complete')"
   ]
  },
  {
   "cell_type": "markdown",
   "id": "24e9ad2b",
   "metadata": {},
   "source": [
    "Plot a) the flux (weight being recycled from the target state to the initial state); b) total number of walkers as a function of time, and c) the mean weight in each bin:"
   ]
  },
  {
   "cell_type": "code",
   "execution_count": null,
   "id": "1d80f631",
   "metadata": {},
   "outputs": [],
   "source": [
    "plt.figure(figsize=(12,8))\n",
    "plt.subplot(221)\n",
    "plt.plot(recycler.flux_history)\n",
    "plt.xlabel('time')\n",
    "plt.ylabel('flux')\n",
    "plt.subplot(222)\n",
    "plt.plot(walkers_per_cycle)\n",
    "plt.xlabel('time')\n",
    "plt.ylabel('walkers per cycle')\n",
    "plt.subplot(223)\n",
    "\n",
    "bin_ids = list(binner.mean_bin_weights.keys())\n",
    "mean_bin_weights = list(binner.mean_bin_weights.values())\n",
    "plt.plot(bin_ids, mean_bin_weights)\n",
    "plt.xlabel('bin index')\n",
    "plt.ylabel('mean bin weight')"
   ]
  },
  {
   "cell_type": "markdown",
   "id": "bb421ea0",
   "metadata": {},
   "source": [
    "From the top two graphs we can see an equilibration phase as simulations gradually percolate through the bins and more and more walkers are required per cycle; only after a lag do the first of them reach the target progress coordinate and so begin to get recycled. The bin weights graph shows that though walkers percolate through the bins, the vast majority of the weight remains in the left-hand well. Its also evident from the flux graph that WE simulations are noisy: it may take quite a time to generate reasonably converged numbers from the data. In any case, we need to exclude the initial equilibration phase from the stats:"
   ]
  },
  {
   "cell_type": "code",
   "execution_count": null,
   "id": "e90a11d3",
   "metadata": {},
   "outputs": [],
   "source": [
    "mean_forward_flux = np.array(recycler.flux_history)[100:].mean() # exclude first 100 data points\n",
    "print('mean flux L->R = ',mean_forward_flux)\n",
    "mean_forward_concentration = sum(mean_bin_weights[:19])\n",
    "print('mean [L] = ', mean_forward_concentration)"
   ]
  },
  {
   "cell_type": "markdown",
   "id": "b6fc9cc2",
   "metadata": {},
   "source": [
    "The stepper keeps a record of all the states it has generated for the walkers. We can now use the data stored in the recorder to produce a 'replay' of the path taken by any of the walkers that made it to the target state (ones in the `recycled_walkers` list):"
   ]
  },
  {
   "cell_type": "code",
   "execution_count": null,
   "id": "a9f76b3d",
   "metadata": {},
   "outputs": [],
   "source": [
    "chosen_walker = 70\n",
    "plt.plot(stepper.recorder.replay(forward_recycled_walkers[chosen_walker]))\n",
    "plt.xlabel('step #')\n",
    "plt.ylabel('progress coordinate')"
   ]
  },
  {
   "cell_type": "markdown",
   "id": "0b361a53",
   "metadata": {},
   "source": [
    "By changing the value of `chosen_walker` you will be able to see how the first walkers to reach ther right-hand well hopped over the barrier quite quickly, but how later ones stay in the left-hand well for longer and longer before transitioning."
   ]
  },
  {
   "cell_type": "markdown",
   "id": "66c557d4",
   "metadata": {},
   "source": [
    "-----------\n",
    "## Part 5: Running the reverse WE simulation workflow\n",
    "Now we do the whole thing again, only this time from the right-hand well back to the left-hand one. First set things up:"
   ]
  },
  {
   "cell_type": "code",
   "execution_count": null,
   "id": "05f7c536",
   "metadata": {},
   "outputs": [],
   "source": [
    "initial_coordinates = 2.0\n",
    "target_pc = -2.0\n",
    "walkers = [Walker(initial_coordinates, 1.0/n_reps) for i in range(n_reps)]\n",
    "edges = [-2.0, -1.5, -1.0, -0.5, 0.0, 0.1, 0.2, 0.3, 0.4, 0.5, 0.6, 0.7, 0.8, 0.9, 1.0,\n",
    "         1.1, 1.2, 1.3, 1.4, 1.5, 1.6, 1.7, 1.8, 1.9, 2.0]\n",
    "binner = StaticBinner(edges)\n",
    "recycler = Recycler(target_pc, retrograde=True)"
   ]
  },
  {
   "cell_type": "markdown",
   "id": "3b2f01e6",
   "metadata": {},
   "source": [
    "Now run the simulation:"
   ]
  },
  {
   "cell_type": "code",
   "execution_count": null,
   "id": "a096b850",
   "metadata": {},
   "outputs": [],
   "source": [
    "n_cycles = 1000\n",
    "walkers_per_cycle = []\n",
    "reverse_recycled_walkers = []\n",
    "\n",
    "walkers = progress_coordinator.run(walkers)\n",
    "\n",
    "for i in range(n_cycles):\n",
    "    walkers = splitmerger.run(walkers)\n",
    "    walkers_per_cycle.append(len(walkers))\n",
    "    walkers = stepper.run(walkers)\n",
    "    walkers = progress_coordinator.run(walkers)\n",
    "    walkers = recycler.run(walkers)\n",
    "    if recycler.flux > 0.0: # Recycled walkers need their pc and bin id updated...\n",
    "        walkers = progress_coordinator.run(walkers)\n",
    "        reverse_recycled_walkers += recycler.recycled_walkers\n",
    "    walkers = binner.run(walkers)\n",
    "    \n",
    "    if i % (n_cycles // 10) == 0:\n",
    "        print(\"{:4.0f}% done...\".format(100*i/n_cycles))\n",
    "print('complete')"
   ]
  },
  {
   "cell_type": "code",
   "execution_count": null,
   "id": "783ea631",
   "metadata": {},
   "outputs": [],
   "source": [
    "plt.figure(figsize=(12,8))\n",
    "plt.subplot(221)\n",
    "plt.plot(recycler.flux_history)\n",
    "plt.xlabel('time')\n",
    "plt.ylabel('flux')\n",
    "plt.subplot(222)\n",
    "plt.plot(walkers_per_cycle)\n",
    "plt.xlabel('time')\n",
    "plt.ylabel('walkers per cycle')\n",
    "plt.subplot(223)\n",
    "bin_ids = list(binner.mean_bin_weights.keys())\n",
    "mean_bin_weights = list(binner.mean_bin_weights.values())\n",
    "plt.plot(bin_ids, mean_bin_weights)\n",
    "plt.xlabel('bin index')\n",
    "plt.ylabel('mean bin weight')"
   ]
  },
  {
   "cell_type": "markdown",
   "id": "8f4091b8",
   "metadata": {},
   "source": [
    "Calculate the reverse fluxes:"
   ]
  },
  {
   "cell_type": "code",
   "execution_count": null,
   "id": "12b9dd50",
   "metadata": {},
   "outputs": [],
   "source": [
    "mean_reverse_flux = np.array(recycler.flux_history)[100:].mean() # discard first 100 data points again\n",
    "print('mean flux R->L:', mean_reverse_flux)\n",
    "mean_reverse_concentration = sum(mean_bin_weights[5:])\n",
    "print('mean [R] = ', mean_reverse_concentration)"
   ]
  },
  {
   "cell_type": "code",
   "execution_count": null,
   "id": "910160f0",
   "metadata": {},
   "outputs": [],
   "source": [
    "chosen_walker = 70\n",
    "plt.plot(stepper.recorder.replay(reverse_recycled_walkers[chosen_walker]))\n",
    "plt.xlabel('step #')\n",
    "plt.ylabel('progress coordinate')"
   ]
  },
  {
   "cell_type": "markdown",
   "id": "bb994204",
   "metadata": {},
   "source": [
    "-------------\n",
    "## Part 6: Calculate the kinetic and thermodynamic parameters\n",
    "Now we can calculate the rate constants and the equilibrium constant. To get the rate constants from the fluxes, we must correct for the concentration (weight) of the \"reactants\". Because weight only trickles over the barrier very slowly, and is then rapidly recycled, the total weight on the \"reactants\" side is typically very close to 1 - but sometimes it may not be, and we should be accurate:"
   ]
  },
  {
   "cell_type": "code",
   "execution_count": null,
   "id": "c4d7d0b4",
   "metadata": {},
   "outputs": [],
   "source": [
    "forward_rate = mean_forward_flux / mean_forward_concentration\n",
    "reverse_rate = mean_reverse_flux / mean_reverse_concentration\n",
    "print('forward rate constant: {:6.2e}'.format(forward_rate))\n",
    "print('reverse rate constant: {:6.2e}'.format(reverse_rate))\n",
    "keq = reverse_rate / forward_rate\n",
    "print('Keq = {:6.4}; deltaG = {:6.2f}'.format(keq, -np.log(keq)))"
   ]
  },
  {
   "cell_type": "markdown",
   "id": "e486577d",
   "metadata": {},
   "source": [
    "How have we done? For reference, the energy difference between the two minima is 4kT.\n",
    "\n",
    "There are many experiments you can run using this notebook:\n",
    "\n",
    " - how does changing the shape of the skewed potential affect performance?\n",
    " - how does changing the binning affect performance?\n",
    " - how much do the kinetic parameters vary between replicate simulations - should they be longer?\n",
    " - how does changing the number of walkers per bin affect performance?"
   ]
  }
 ],
 "metadata": {
  "kernelspec": {
   "display_name": "Python 3 (ipykernel)",
   "language": "python",
   "name": "python3"
  },
  "language_info": {
   "codemirror_mode": {
    "name": "ipython",
    "version": 3
   },
   "file_extension": ".py",
   "mimetype": "text/x-python",
   "name": "python",
   "nbconvert_exporter": "python",
   "pygments_lexer": "ipython3",
   "version": "3.9.10"
  }
 },
 "nbformat": 4,
 "nbformat_minor": 5
}
